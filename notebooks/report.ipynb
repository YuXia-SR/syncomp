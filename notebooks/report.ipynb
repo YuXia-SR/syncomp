{
 "cells": [
  {
   "cell_type": "markdown",
   "metadata": {},
   "source": [
    "# Performance analysis on synthetic data generators\n",
    "\n",
    "This notebooks applies multiple synthetic data generator to simulate the real data set, Complete Journey. We provide step-by-step instructions on how to use each generator and analyze their performance from perspectives of Fidelity, Utility, and Privacy."
   ]
  },
  {
   "cell_type": "code",
   "execution_count": 1,
   "metadata": {},
   "outputs": [],
   "source": [
    "from syncomp import metrics"
   ]
  },
  {
   "cell_type": "markdown",
   "metadata": {},
   "source": [
    "## Real Data Exploration\n",
    "\n",
    "> The Complete Journey dataset characterizes household level transactions over one year from a group of 2,469 households who are frequent shoppers at a grocery store. It contains all of each household’s purchases, not just those from a limited number of categories. For certain households, demographic information as well as direct marketing contact history are captured.\n",
    "\n",
    "For a deep dive into the dataset exploration and data cleaning, please refer to notebook [Complete Journey Data Exploration](https://github.com/RetailMarketingAI/retailsynth/blob/main/analysis_workflow/1_complete_journey_eda/1_preprocess_analysis.ipynb)."
   ]
  },
  {
   "cell_type": "code",
   "execution_count": null,
   "metadata": {},
   "outputs": [],
   "source": [
    "# TODO: Show distributions of some key categorical variables and numerical variables we're gonna use to evaluate the model."
   ]
  },
  {
   "cell_type": "markdown",
   "metadata": {},
   "source": [
    "## Models\n",
    "1. StaSy\n",
    "2. TabDDPM\n",
    "3. StaSy-AutoDiff\n",
    "4. Tab-AutoDiff\n",
    "5. RetailSynth[Optional]: Notice that RetailSynth focuses on imitating the transaction only, that it does not necessarily synthesize the categorical features, like customer demographics."
   ]
  },
  {
   "cell_type": "code",
   "execution_count": null,
   "metadata": {},
   "outputs": [],
   "source": [
    "# TODO: need to finalize the list of models with Chi-Hua\n",
    "# TODO: add shell command to run training jobs"
   ]
  },
  {
   "cell_type": "markdown",
   "metadata": {},
   "source": [
    "## Metrics\n",
    "\n",
    "### Fidelity\n",
    "1. Wasserstein distance of probability distributions for the following numerical features:\n",
    "    - Store visit probability\n",
    "    - Product purchase probability\n",
    "    - Product demand\n",
    "    - Basket size\n",
    "    - Time between purchase\n",
    "    - Price elasticity\n",
    "2. Jensen Shannon divergence of distributions for the following categorical features:\n",
    "    - Customer demographics (age, household size, etc.)\n",
    "    - Store information (state, city, etc.)\n",
    "3. Pearson Correlation between listed numerical features\n",
    "4. Theil's U for listed categorical features\n",
    "5. Correlation Ratio between listed categorical and numerical features\n",
    "6. Business insights\n",
    "    - Customer segmentation\n",
    "    - Customer retention\n",
    "    - Category penetration"
   ]
  },
  {
   "cell_type": "code",
   "execution_count": null,
   "metadata": {},
   "outputs": [],
   "source": [
    "# TODO: fill the following metrics with all models.\n",
    "# TODO: find existing implementation of the following metrics potentially in the lab repo"
   ]
  },
  {
   "cell_type": "markdown",
   "metadata": {},
   "source": [
    "### Utility\n",
    "We define a classification task and a regression task to justify if statistical ML models can learn the patterns from the synthetic data. Classification task is to predict whether the customer will make a purchase at one time step. Regression task is to predict the total demand or revenue of a customer at one time step. \n",
    "1. Classification task\n",
    "    - Accuracy\n",
    "    - F1 score\n",
    "    - ROC AUC\n",
    "2. Regression task\n",
    "    - Mean Squared Error\n",
    "    - R2 score\n",
    "\n",
    "We also define an unsupervised learning task to justify if clustering algorithms can learn the patterns from the synthetic data. The clustering task is to cluster the customers based on their purchase behavior.\n",
    "1. Silhouette Score between synthetic cluster and real cluster"
   ]
  },
  {
   "cell_type": "markdown",
   "metadata": {},
   "source": [
    "### Privacy\n",
    "1. Distances to Closest Records"
   ]
  },
  {
   "cell_type": "code",
   "execution_count": null,
   "metadata": {},
   "outputs": [],
   "source": [
    "# TODO: find existing implementation of the following metrics potentially in the lab repo"
   ]
  }
 ],
 "metadata": {
  "kernelspec": {
   "display_name": "Python 3",
   "language": "python",
   "name": "python3"
  },
  "language_info": {
   "codemirror_mode": {
    "name": "ipython",
    "version": 3
   },
   "file_extension": ".py",
   "mimetype": "text/x-python",
   "name": "python",
   "nbconvert_exporter": "python",
   "pygments_lexer": "ipython3",
   "version": "3.10.11"
  }
 },
 "nbformat": 4,
 "nbformat_minor": 2
}
